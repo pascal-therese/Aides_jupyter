{
 "cells": [
  {
   "cell_type": "markdown",
   "metadata": {},
   "source": [
    "# Pythontutor\n",
    "\n",
    "http://www.pythontutor.com/\n",
    "\n"
   ]
  },
  {
   "cell_type": "code",
   "execution_count": 1,
   "metadata": {
    "collapsed": true
   },
   "outputs": [],
   "source": [
    "from metakernel import register_ipython_magics\n",
    "register_ipython_magics()"
   ]
  },
  {
   "cell_type": "code",
   "execution_count": 8,
   "metadata": {},
   "outputs": [
    {
     "data": {
      "text/html": [
       "\n",
       "        <iframe\n",
       "            width=\"100%\"\n",
       "            height=\"500\"\n",
       "            src=\"https://pythontutor.com/iframe-embed.html#code=%0Adef%20f%28x%29%3A%0A%20%20%20%20if%20x%3E0%3A%0A%20%20%20%20%20%20%20%20return%283%2Ax%2B1%29%0A%20%20%20%20else%20%3A%0A%20%20%20%20%20%20%20%20return%28-x%2B1%29%0A%0Aprint%28f%283%29%29%0A%0A&origin=opt-frontend.js&cumulative=false&heapPrimitives=false&textReferences=false&py=3&rawInputLstJSON=%5B%5D&curInstr=0&codeDivWidth=350&codeDivHeight=400\"\n",
       "            frameborder=\"0\"\n",
       "            allowfullscreen\n",
       "        ></iframe>\n",
       "        "
      ],
      "text/plain": [
       "<IPython.lib.display.IFrame at 0x1ec21297470>"
      ]
     },
     "metadata": {},
     "output_type": "display_data"
    }
   ],
   "source": [
    "%%tutor\n",
    "\n",
    "def f(x):\n",
    "    if x>0:\n",
    "        return(3*x+1)\n",
    "    else :\n",
    "        return(-x+1)\n",
    "\n",
    "print(f(3))\n",
    "\n",
    "\n"
   ]
  },
  {
   "cell_type": "markdown",
   "metadata": {
    "collapsed": true
   },
   "source": [
    "# Exemple avec un algorithme de seuil.\n",
    "\n",
    "Une hauteur de 2 mètres et une perte à chaque rebonds de 15% de la hauteur. Un seuil final de 1,4 mètre.\n"
   ]
  },
  {
   "cell_type": "code",
   "execution_count": 13,
   "metadata": {},
   "outputs": [
    {
     "data": {
      "text/html": [
       "\n",
       "        <iframe\n",
       "            width=\"100%\"\n",
       "            height=\"500\"\n",
       "            src=\"https://pythontutor.com/iframe-embed.html#code=h%3D2%0An%3D0%0A%0Awhile%20h%3E1.4%3A%0A%20%20%20%20h%3Dh%2A0.85%0A%20%20%20%20n%3Dn%2B1%0A%0A%0A&origin=opt-frontend.js&cumulative=false&heapPrimitives=false&textReferences=false&py=3&rawInputLstJSON=%5B%5D&curInstr=0&codeDivWidth=350&codeDivHeight=400\"\n",
       "            frameborder=\"0\"\n",
       "            allowfullscreen\n",
       "        ></iframe>\n",
       "        "
      ],
      "text/plain": [
       "<IPython.lib.display.IFrame at 0x2c8500dd160>"
      ]
     },
     "metadata": {},
     "output_type": "display_data"
    }
   ],
   "source": [
    "%%tutor\n",
    "h=2\n",
    "n=0\n",
    "\n",
    "while h>1.4:\n",
    "    h=h*0.85\n",
    "    n=n+1\n",
    "\n",
    "\n",
    "\n"
   ]
  },
  {
   "cell_type": "code",
   "execution_count": 22,
   "metadata": {},
   "outputs": [
    {
     "data": {
      "text/html": [
       "\n",
       "        <iframe\n",
       "            width=\"100%\"\n",
       "            height=\"500\"\n",
       "            src=\"https://pythontutor.com/iframe-embed.html#code=%0Adef%20somme_liste%28l%29%3A%0A%20%20%20%20S%3D0%0A%20%20%20%20for%20i%20in%20range%28len%28l%29%29%3A%0A%20%20%20%20%20%20%20%20S%3DS%2Bl%5Bi%5D%0A%20%20%20%20return%28S%29%0A%0Adef%20liste_carres%28n%29%3A%0A%20%20%20%20%22Renvoie%20la%20liste%20des%20n%20premiers%20carr%C3%A9s%22%0A%20%20%20%20assert%28n%3E0%29%0A%20%20%20%20L%3D%5B%5D%0A%20%20%20%20for%20i%20in%20range%28n%29%3A%0A%20%20%20%20%20%20%20%20L.append%28i%2A%2A2%29%0A%20%20%20%20return%28L%29%0A%0Asomme_liste%28liste_carres%2810%29%29&origin=opt-frontend.js&cumulative=false&heapPrimitives=false&textReferences=false&py=3&rawInputLstJSON=%5B%5D&curInstr=0&codeDivWidth=350&codeDivHeight=400\"\n",
       "            frameborder=\"0\"\n",
       "            allowfullscreen\n",
       "        ></iframe>\n",
       "        "
      ],
      "text/plain": [
       "<IPython.lib.display.IFrame at 0x2c8501472b0>"
      ]
     },
     "metadata": {},
     "output_type": "display_data"
    }
   ],
   "source": [
    "%%tutor\n",
    "\n",
    "def somme_liste(l):\n",
    "    S=0\n",
    "    for i in range(len(l)):\n",
    "        S=S+l[i]\n",
    "    return(S)\n",
    "\n",
    "def liste_carres(n):\n",
    "    \"Renvoie la liste des n premiers carrés\"\n",
    "    assert(n>0)\n",
    "    L=[]\n",
    "    for i in range(n):\n",
    "        L.append(i**2)\n",
    "    return(L)\n",
    "\n",
    "somme_liste(liste_carres(10))\n"
   ]
  },
  {
   "cell_type": "code",
   "execution_count": null,
   "metadata": {
    "collapsed": true
   },
   "outputs": [],
   "source": []
  }
 ],
 "metadata": {
  "kernelspec": {
   "display_name": "Python 3",
   "language": "python",
   "name": "python3"
  },
  "language_info": {
   "codemirror_mode": {
    "name": "ipython",
    "version": 3
   },
   "file_extension": ".py",
   "mimetype": "text/x-python",
   "name": "python",
   "nbconvert_exporter": "python",
   "pygments_lexer": "ipython3",
   "version": "3.6.2"
  }
 },
 "nbformat": 4,
 "nbformat_minor": 2
}
