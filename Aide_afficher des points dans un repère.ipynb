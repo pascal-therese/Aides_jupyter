{
 "cells": [
  {
   "cell_type": "markdown",
   "metadata": {},
   "source": [
    "Afficher des points entrés au clavier.\n",
    "\n",
    "http://apprendre-python.com/page-creer-graphiques-scientifiques-python-apprendre"
   ]
  },
  {
   "cell_type": "code",
   "execution_count": 9,
   "metadata": {},
   "outputs": [],
   "source": [
    "# from math import *\n",
    "# from random import *\n",
    "import matplotlib.pyplot as plt\n",
    "# import numpy as np\n",
    "\n",
    "\n",
    "\n",
    "\n",
    "def representer(liste_x,liste_y):\n",
    "    plt.scatter(liste_x,liste_y,\n",
    "               color = 'blue', marker = 'D', s = 30)\n",
    "    plt.axis([-12, 12, -12, 12])\n",
    "    plt.xlabel('Abscisse X')\n",
    "    plt.ylabel('Ordonnée Y')\n",
    "    plt.title('Titre du graphique')\n",
    "    plt.grid()\n",
    "    plt.show()\n",
    "\n",
    "def points(liste_x,liste_y,n):\n",
    "    for i in range(n) :\n",
    "        x=int(input(\" valeur de x\"))\n",
    "        y=int(input(\" Valeur de y\"))\n",
    "        liste_x.append(x)\n",
    "        liste_y.append(y)\n",
    "    return liste_x,liste_y\n",
    "\n",
    "def demo():\n",
    "    n=int(input(\"Entrer le nombre de points : \"))\n",
    "    liste_x=[]\n",
    "    liste_y=[]\n",
    "    liste_x,liste_y = points(liste_x,liste_y,n)\n",
    "    representer(liste_x,liste_y)\n",
    "    \n",
    "\n",
    "    \n",
    "\n"
   ]
  },
  {
   "cell_type": "code",
   "execution_count": 10,
   "metadata": {},
   "outputs": [
    {
     "name": "stdout",
     "output_type": "stream",
     "text": [
      "Entrer le nombre de points : 2\n",
      " valeur de x0\n",
      " Valeur de y0\n",
      " valeur de x-2\n",
      " Valeur de y3\n"
     ]
    },
    {
     "data": {
      "image/png": "[encoded data removed]",
      "text/plain": [
       "<matplotlib.figure.Figure at 0x1e0fa82ce80>"
      ]
     },
     "metadata": {},
     "output_type": "display_data"
    }
   ],
   "source": [
    "demo()"
   ]
  },
  {
   "cell_type": "code",
   "execution_count": 17,
   "metadata": {
    "collapsed": true
   },
   "outputs": [],
   "source": []
  }
 ],
 "metadata": {
  "kernelspec": {
   "display_name": "Python 3",
   "language": "python",
   "name": "python3"
  },
  "language_info": {
   "codemirror_mode": {
    "name": "ipython",
    "version": 3
   },
   "file_extension": ".py",
   "mimetype": "text/x-python",
   "name": "python",
   "nbconvert_exporter": "python",
   "pygments_lexer": "ipython3",
   "version": "3.6.2"
  }
 },
 "nbformat": 4,
 "nbformat_minor": 2
}
